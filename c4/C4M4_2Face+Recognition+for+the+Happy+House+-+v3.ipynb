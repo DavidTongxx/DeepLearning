{
 "cells": [
  {
   "cell_type": "markdown",
   "metadata": {},
   "source": [
    "# Face Recognition for the Happy House\n",
    "\n",
    "Welcome to the first assignment of week 4! Here you will build a face recognition system. Many of the ideas presented here are from [FaceNet](https://arxiv.org/pdf/1503.03832.pdf). In lecture, we also talked about [DeepFace](https://research.fb.com/wp-content/uploads/2016/11/deepface-closing-the-gap-to-human-level-performance-in-face-verification.pdf). \n",
    "\n",
    "Face recognition problems commonly fall into two categories: \n",
    "\n",
    "- **Face Verification** - \"is this the claimed person?\". For example, at some airports, you can pass through customs by letting a system scan your passport and then verifying that you (the person carrying the passport) are the correct person. A mobile phone that unlocks using your face is also using face verification. This is a 1:1 matching problem. \n",
    "- **Face Recognition** - \"who is this person?\". For example, the video lecture showed a face recognition video (https://www.youtube.com/watch?v=wr4rx0Spihs) of Baidu employees entering the office without needing to otherwise identify themselves. This is a 1:K matching problem. \n",
    "\n",
    "FaceNet learns a neural network that encodes a face image into a vector of 128 numbers. By comparing two such vectors, you can then determine if two pictures are of the same person.\n",
    "    \n",
    "**In this assignment, you will:**\n",
    "- Implement the triplet loss function\n",
    "- Use a pretrained model to map face images into 128-dimensional encodings\n",
    "- Use these encodings to perform face verification and face recognition\n",
    "\n",
    "In this exercise, we will be using a pre-trained model which represents ConvNet activations using a \"channels first\" convention, as opposed to the \"channels last\" convention used in lecture and previous programming assignments. In other words, a batch of images will be of shape $(m, n_C, n_H, n_W)$ instead of $(m, n_H, n_W, n_C)$. Both of these conventions have a reasonable amount of traction among open-source implementations; there isn't a uniform standard yet within the deep learning community. \n",
    "\n",
    "Let's load the required packages. \n"
   ]
  },
  {
   "cell_type": "code",
   "execution_count": 1,
   "metadata": {},
   "outputs": [
    {
     "name": "stderr",
     "output_type": "stream",
     "text": [
      "Using TensorFlow backend.\n"
     ]
    }
   ],
   "source": [
    "from keras.models import Sequential\n",
    "from keras.layers import Conv2D, ZeroPadding2D, Activation, Input, concatenate\n",
    "from keras.models import Model\n",
    "from keras.layers.normalization import BatchNormalization\n",
    "from keras.layers.pooling import MaxPooling2D, AveragePooling2D\n",
    "from keras.layers.merge import Concatenate\n",
    "from keras.layers.core import Lambda, Flatten, Dense\n",
    "from keras.initializers import glorot_uniform\n",
    "from keras.engine.topology import Layer\n",
    "from keras import backend as K\n",
    "K.set_image_data_format('channels_first')\n",
    "import cv2\n",
    "import os\n",
    "import numpy as np\n",
    "from numpy import genfromtxt\n",
    "import pandas as pd\n",
    "import tensorflow as tf\n",
    "from fr_utils import *\n",
    "from inception_blocks_v2 import *\n",
    "\n",
    "%matplotlib inline\n",
    "%load_ext autoreload\n",
    "%autoreload 2\n",
    "\n",
    "np.set_printoptions(threshold=np.nan)"
   ]
  },
  {
   "cell_type": "markdown",
   "metadata": {},
   "source": [
    "## 0 - Naive Face Verification\n",
    "\n",
    "In Face Verification, you're given two images and you have to tell if they are of the same person. The simplest way to do this is to compare the two images pixel-by-pixel. If the distance between the raw images are less than a chosen threshold, it may be the same person! \n",
    "\n",
    "<img src=\"images/pixel_comparison.png\" style=\"width:380px;height:150px;\">\n",
    "<caption><center> <u> <font color='purple'> **Figure 1** </u></center></caption>"
   ]
  },
  {
   "cell_type": "markdown",
   "metadata": {
    "collapsed": true
   },
   "source": [
    "Of course, this algorithm performs really poorly, since the pixel values change dramatically due to variations in lighting, orientation of the person's face, even minor changes in head position, and so on. \n",
    "\n",
    "You'll see that rather than using the raw image, you can learn an encoding $f(img)$ so that element-wise comparisons of this encoding gives more accurate judgements as to whether two pictures are of the same person."
   ]
  },
  {
   "cell_type": "markdown",
   "metadata": {},
   "source": [
    "## 1 - Encoding face images into a 128-dimensional vector \n",
    "\n",
    "### 1.1 - Using an ConvNet  to compute encodings\n",
    "\n",
    "The FaceNet model takes a lot of data and a long time to train. So following common practice in applied deep learning settings, let's just load weights that someone else has already trained. The network architecture follows the Inception model from [Szegedy *et al.*](https://arxiv.org/abs/1409.4842). We have provided an inception network implementation. You can look in the file `inception_blocks.py` to see how it is implemented (do so by going to \"File->Open...\" at the top of the Jupyter notebook).  \n"
   ]
  },
  {
   "cell_type": "markdown",
   "metadata": {},
   "source": [
    "The key things you need to know are:\n",
    "\n",
    "- This network uses 96x96 dimensional RGB images as its input. Specifically, inputs a face image (or batch of $m$ face images) as a tensor of shape $(m, n_C, n_H, n_W) = (m, 3, 96, 96)$ \n",
    "- It outputs a matrix of shape $(m, 128)$ that encodes each input face image into a 128-dimensional vector\n",
    "\n",
    "Run the cell below to create the model for face images."
   ]
  },
  {
   "cell_type": "code",
   "execution_count": 2,
   "metadata": {
    "collapsed": true
   },
   "outputs": [],
   "source": [
    "FRmodel = faceRecoModel(input_shape=(3, 96, 96))"
   ]
  },
  {
   "cell_type": "code",
   "execution_count": 3,
   "metadata": {},
   "outputs": [
    {
     "name": "stdout",
     "output_type": "stream",
     "text": [
      "Total Params: 3743280\n"
     ]
    }
   ],
   "source": [
    "print(\"Total Params:\", FRmodel.count_params())"
   ]
  },
  {
   "cell_type": "markdown",
   "metadata": {},
   "source": [
    "** Expected Output **\n",
    "<table>\n",
    "<center>\n",
    "Total Params: 3743280\n",
    "</center>\n",
    "</table>\n"
   ]
  },
  {
   "cell_type": "markdown",
   "metadata": {},
   "source": [
    "By using a 128-neuron fully connected layer as its last layer, the model ensures that the output is an encoding vector of size 128. You then use the encodings the compare two face images as follows:\n",
    "\n",
    "<img src=\"images/distance_kiank.png\" style=\"width:680px;height:250px;\">\n",
    "<caption><center> <u> <font color='purple'> **Figure 2**: <br> </u> <font color='purple'> By computing a distance between two encodings and thresholding, you can determine if the two pictures represent the same person</center></caption>\n",
    "\n",
    "So, an encoding is a good one if: \n",
    "- The encodings of two images of the same person are quite similar to each other \n",
    "- The encodings of two images of different persons are very different\n",
    "\n",
    "The triplet loss function formalizes this, and tries to \"push\" the encodings of two images of the same person (Anchor and Positive) closer together, while \"pulling\" the encodings of two images of different persons (Anchor, Negative) further apart. \n",
    "\n",
    "<img src=\"images/triplet_comparison.png\" style=\"width:280px;height:150px;\">\n",
    "<br>\n",
    "<caption><center> <u> <font color='purple'> **Figure 3**: <br> </u> <font color='purple'> In the next part, we will call the pictures from left to right: Anchor (A), Positive (P), Negative (N)  </center></caption>"
   ]
  },
  {
   "cell_type": "markdown",
   "metadata": {},
   "source": [
    "\n",
    "\n",
    "### 1.2 - The Triplet Loss\n",
    "\n",
    "For an image $x$, we denote its encoding $f(x)$, where $f$ is the function computed by the neural network.\n",
    "\n",
    "<img src=\"images/f_x.png\" style=\"width:380px;height:150px;\">\n",
    "\n",
    "<!--\n",
    "We will also add a normalization step at the end of our model so that $\\mid \\mid f(x) \\mid \\mid_2 = 1$ (means the vector of encoding should be of norm 1).\n",
    "!-->\n",
    "\n",
    "Training will use triplets of images $(A, P, N)$:  \n",
    "\n",
    "- A is an \"Anchor\" image--a picture of a person. \n",
    "- P is a \"Positive\" image--a picture of the same person as the Anchor image.\n",
    "- N is a \"Negative\" image--a picture of a different person than the Anchor image.\n",
    "\n",
    "These triplets are picked from our training dataset. We will write $(A^{(i)}, P^{(i)}, N^{(i)})$ to denote the $i$-th training example. \n",
    "\n",
    "You'd like to make sure that an image $A^{(i)}$ of an individual is closer to the Positive $P^{(i)}$ than to the Negative image $N^{(i)}$) by at least a margin $\\alpha$:\n",
    "\n",
    "$$\\mid \\mid f(A^{(i)}) - f(P^{(i)}) \\mid \\mid_2^2 + \\alpha < \\mid \\mid f(A^{(i)}) - f(N^{(i)}) \\mid \\mid_2^2$$\n",
    "\n",
    "You would thus like to minimize the following \"triplet cost\":\n",
    "\n",
    "$$\\mathcal{J} = \\sum^{m}_{i=1} \\large[ \\small \\underbrace{\\mid \\mid f(A^{(i)}) - f(P^{(i)}) \\mid \\mid_2^2}_\\text{(1)} - \\underbrace{\\mid \\mid f(A^{(i)}) - f(N^{(i)}) \\mid \\mid_2^2}_\\text{(2)} + \\alpha \\large ] \\small_+ \\tag{3}$$\n",
    "\n",
    "Here, we are using the notation \"$[z]_+$\" to denote $max(z,0)$.  \n",
    "\n",
    "Notes:\n",
    "- The term (1) is the squared distance between the anchor \"A\" and the positive \"P\" for a given triplet; you want this to be small. \n",
    "- The term (2) is the squared distance between the anchor \"A\" and the negative \"N\" for a given triplet, you want this to be relatively large, so it thus makes sense to have a minus sign preceding it. \n",
    "- $\\alpha$ is called the margin. It is a hyperparameter that you should pick manually. We will use $\\alpha = 0.2$. \n",
    "\n",
    "Most implementations also normalize the encoding vectors  to have norm equal one (i.e., $\\mid \\mid f(img)\\mid \\mid_2$=1); you won't have to worry about that here.\n",
    "\n",
    "**Exercise**: Implement the triplet loss as defined by formula (3). Here are the 4 steps:\n",
    "1. Compute the distance between the encodings of \"anchor\" and \"positive\": $\\mid \\mid f(A^{(i)}) - f(P^{(i)}) \\mid \\mid_2^2$\n",
    "2. Compute the distance between the encodings of \"anchor\" and \"negative\": $\\mid \\mid f(A^{(i)}) - f(N^{(i)}) \\mid \\mid_2^2$\n",
    "3. Compute the formula per training example: $ \\mid \\mid f(A^{(i)}) - f(P^{(i)}) \\mid - \\mid \\mid f(A^{(i)}) - f(N^{(i)}) \\mid \\mid_2^2 + \\alpha$\n",
    "3. Compute the full formula by taking the max with zero and summing over the training examples:\n",
    "$$\\mathcal{J} = \\sum^{m}_{i=1} \\large[ \\small \\mid \\mid f(A^{(i)}) - f(P^{(i)}) \\mid \\mid_2^2 - \\mid \\mid f(A^{(i)}) - f(N^{(i)}) \\mid \\mid_2^2+ \\alpha \\large ] \\small_+ \\tag{3}$$\n",
    "\n",
    "Useful functions: `tf.reduce_sum()`, `tf.square()`, `tf.subtract()`, `tf.add()`, `tf.maximum()`.\n",
    "For steps 1 and 2, you will need to sum over the entries of $\\mid \\mid f(A^{(i)}) - f(P^{(i)}) \\mid \\mid_2^2$ and $\\mid \\mid f(A^{(i)}) - f(N^{(i)}) \\mid \\mid_2^2$ while for step 4 you will need to sum over the training examples."
   ]
  },
  {
   "cell_type": "code",
   "execution_count": 4,
   "metadata": {
    "collapsed": true
   },
   "outputs": [],
   "source": [
    "# GRADED FUNCTION: triplet_loss\n",
    "\n",
    "def triplet_loss(y_true, y_pred, alpha = 0.2):\n",
    "    \"\"\"\n",
    "    Implementation of the triplet loss as defined by formula (3)\n",
    "    \n",
    "    Arguments:\n",
    "    y_true -- true labels, required when you define a loss in Keras, you don't need it in this function.\n",
    "    y_pred -- python list containing three objects:\n",
    "            anchor -- the encodings for the anchor images, of shape (None, 128)\n",
    "            positive -- the encodings for the positive images, of shape (None, 128)\n",
    "            negative -- the encodings for the negative images, of shape (None, 128)\n",
    "    \n",
    "    Returns:\n",
    "    loss -- real number, value of the loss\n",
    "    \"\"\"\n",
    "    \n",
    "    anchor, positive, negative = y_pred[0], y_pred[1], y_pred[2]\n",
    "    \n",
    "    ### START CODE HERE ### (≈ 4 lines)\n",
    "    # Step 1: Compute the (encoding) distance between the anchor and the positive, you will need to sum over axis=-1\n",
    "    pos_dist =tf.reduce_sum(tf.square(anchor-positive),axis=-1)\n",
    "    # Step 2: Compute the (encoding) distance between the anchor and the negative, you will need to sum over axis=-1\n",
    "    neg_dist =tf.reduce_sum(tf.square(anchor-negative),axis=-1)\n",
    "    # Step 3: subtract the two previous distances and add alpha.\n",
    "    basic_loss = pos_dist-neg_dist+alpha\n",
    "    # Step 4: Take the maximum of basic_loss and 0.0. Sum over the training examples.\n",
    "    loss = tf.reduce_sum(tf.maximum(basic_loss,0.0))\n",
    "    ### END CODE HERE ###\n",
    "    \n",
    "    return loss"
   ]
  },
  {
   "cell_type": "code",
   "execution_count": 5,
   "metadata": {},
   "outputs": [
    {
     "name": "stdout",
     "output_type": "stream",
     "text": [
      "loss = 528.143\n"
     ]
    }
   ],
   "source": [
    "with tf.Session() as test:\n",
    "    tf.set_random_seed(1)\n",
    "    y_true = (None, None, None)\n",
    "    y_pred = (tf.random_normal([3, 128], mean=6, stddev=0.1, seed = 1),\n",
    "              tf.random_normal([3, 128], mean=1, stddev=1, seed = 1),\n",
    "              tf.random_normal([3, 128], mean=3, stddev=4, seed = 1))\n",
    "    loss = triplet_loss(y_true, y_pred)\n",
    "    \n",
    "    print(\"loss = \" + str(loss.eval()))"
   ]
  },
  {
   "cell_type": "markdown",
   "metadata": {},
   "source": [
    "**Expected Output**:\n",
    "\n",
    "<table>\n",
    "    <tr>\n",
    "        <td>\n",
    "            **loss**\n",
    "        </td>\n",
    "        <td>\n",
    "           528.143\n",
    "        </td>\n",
    "    </tr>\n",
    "\n",
    "</table>"
   ]
  },
  {
   "cell_type": "markdown",
   "metadata": {},
   "source": [
    "## 2 - Loading the trained model\n",
    "\n",
    "FaceNet is trained by minimizing the triplet loss. But since training requires a lot of data and a lot of computation, we won't train it from scratch here. Instead, we load a previously trained model. Load a model using the following cell; this might take a couple of minutes to run. "
   ]
  },
  {
   "cell_type": "code",
   "execution_count": null,
   "metadata": {
    "collapsed": true
   },
   "outputs": [],
   "source": [
    "FRmodel.compile(optimizer = 'adam', loss = triplet_loss, metrics = ['accuracy'])\n",
    "load_weights_from_FaceNet(FRmodel)"
   ]
  },
  {
   "cell_type": "markdown",
   "metadata": {},
   "source": [
    "Here're some examples of distances between the encodings between three individuals:\n",
    "\n",
    "<img src=\"images/distance_matrix.png\" style=\"width:380px;height:200px;\">\n",
    "<br>\n",
    "<caption><center> <u> <font color='purple'> **Figure 4**:</u> <br>  <font color='purple'> Example of distance outputs between three individuals' encodings</center></caption>\n",
    "\n",
    "Let's now use this model to perform face verification and face recognition! "
   ]
  },
  {
   "cell_type": "markdown",
   "metadata": {},
   "source": [
    "## 3 - Applying the model"
   ]
  },
  {
   "cell_type": "markdown",
   "metadata": {},
   "source": [
    "Back to the Happy House! Residents are living blissfully since you implemented happiness recognition for the house in an earlier assignment.  \n",
    "\n",
    "However, several issues keep coming up: The Happy House became so happy that every happy person in the neighborhood is coming to hang out in your living room. It is getting really crowded, which is having a negative impact on the residents of the house. All these random happy people are also eating all your food. \n",
    "\n",
    "So, you decide to change the door entry policy, and not just let random happy people enter anymore, even if they are happy! Instead, you'd like to build a **Face verification** system so as to only let people from a specified list come in. To get admitted, each person has to swipe an ID card (identification card) to identify themselves at the door. The face recognition system then checks that they are who they claim to be. "
   ]
  },
  {
   "cell_type": "markdown",
   "metadata": {},
   "source": [
    "### 3.1 - Face Verification\n",
    "\n",
    "Let's build a database containing one encoding vector for each person allowed to enter the happy house. To generate the encoding we use `img_to_encoding(image_path, model)` which basically runs the forward propagation of the model on the specified image. \n",
    "\n",
    "Run the following code to build the database (represented as a python dictionary). This database maps each person's name to a 128-dimensional encoding of their face."
   ]
  },
  {
   "cell_type": "code",
   "execution_count": 6,
   "metadata": {
    "collapsed": true
   },
   "outputs": [],
   "source": [
    "database = {}\n",
    "database[\"danielle\"] = img_to_encoding(\"images/danielle.png\", FRmodel)\n",
    "database[\"younes\"] = img_to_encoding(\"images/younes.jpg\", FRmodel)\n",
    "database[\"tian\"] = img_to_encoding(\"images/tian.jpg\", FRmodel)\n",
    "database[\"andrew\"] = img_to_encoding(\"images/andrew.jpg\", FRmodel)\n",
    "database[\"kian\"] = img_to_encoding(\"images/kian.jpg\", FRmodel)\n",
    "database[\"dan\"] = img_to_encoding(\"images/dan.jpg\", FRmodel)\n",
    "database[\"sebastiano\"] = img_to_encoding(\"images/sebastiano.jpg\", FRmodel)\n",
    "database[\"bertrand\"] = img_to_encoding(\"images/bertrand.jpg\", FRmodel)\n",
    "database[\"kevin\"] = img_to_encoding(\"images/kevin.jpg\", FRmodel)\n",
    "database[\"felix\"] = img_to_encoding(\"images/felix.jpg\", FRmodel)\n",
    "database[\"benoit\"] = img_to_encoding(\"images/benoit.jpg\", FRmodel)\n",
    "database[\"arnaud\"] = img_to_encoding(\"images/arnaud.jpg\", FRmodel)"
   ]
  },
  {
   "cell_type": "markdown",
   "metadata": {},
   "source": [
    "Now, when someone shows up at your front door and swipes their ID card (thus giving you their name), you can look up their encoding in the database, and use it to check if the person standing at the front door matches the name on the ID.\n",
    "\n",
    "**Exercise**: Implement the verify() function which checks if the front-door camera picture (`image_path`) is actually the person called \"identity\". You will have to go through the following steps:\n",
    "1. Compute the encoding of the image from image_path\n",
    "2. Compute the distance about this encoding and the encoding of the identity image stored in the database\n",
    "3. Open the door if the distance is less than 0.7, else do not open.\n",
    "\n",
    "As presented above, you should use the L2 distance (np.linalg.norm). (Note: In this implementation, compare the L2 distance, not the square of the L2 distance, to the threshold 0.7.) "
   ]
  },
  {
   "cell_type": "code",
   "execution_count": 7,
   "metadata": {
    "collapsed": true
   },
   "outputs": [],
   "source": [
    "# GRADED FUNCTION: verify\n",
    "\n",
    "def verify(image_path, identity, database, model):\n",
    "    \"\"\"\n",
    "    Function that verifies if the person on the \"image_path\" image is \"identity\".\n",
    "    \n",
    "    Arguments:\n",
    "    image_path -- path to an image\n",
    "    identity -- string, name of the person you'd like to verify the identity. Has to be a resident of the Happy house.\n",
    "    database -- python dictionary mapping names of allowed people's names (strings) to their encodings (vectors).\n",
    "    model -- your Inception model instance in Keras\n",
    "    \n",
    "    Returns:\n",
    "    dist -- distance between the image_path and the image of \"identity\" in the database.\n",
    "    door_open -- True, if the door should open. False otherwise.\n",
    "    \"\"\"\n",
    "    \n",
    "    ### START CODE HERE ###\n",
    "    \n",
    "    # Step 1: Compute the encoding for the image. Use img_to_encoding() see example above. (≈ 1 line)\n",
    "    encoding = img_to_encoding(image_path,model)\n",
    "    #print(database[identity])\n",
    "    #print(type(database[identity]))\n",
    "    # Step 2: Compute distance with identity's image (≈ 1 line)\n",
    "    dist=np.linalg.norm(encoding-database[identity])\n",
    "    \n",
    "    # Step 3: Open the door if dist < 0.7, else don't open (≈ 3 lines)\n",
    "    if dist<0.7:\n",
    "        print(\"It's \" + str(identity) + \", welcome home!\")\n",
    "        door_open = True\n",
    "    else:\n",
    "        print(\"It's not \" + str(identity) + \", please go away\")\n",
    "        door_open = False\n",
    "        \n",
    "    ### END CODE HERE ###\n",
    "        \n",
    "    return dist, door_open"
   ]
  },
  {
   "cell_type": "markdown",
   "metadata": {},
   "source": [
    "Younes is trying to enter the Happy House and the camera takes a picture of him (\"images/camera_0.jpg\"). Let's run your verification algorithm on this picture:\n",
    "\n",
    "<img src=\"images/camera_0.jpg\" style=\"width:100px;height:100px;\">"
   ]
  },
  {
   "cell_type": "code",
   "execution_count": 8,
   "metadata": {},
   "outputs": [
    {
     "name": "stdout",
     "output_type": "stream",
     "text": [
      "It's younes, welcome home!\n"
     ]
    },
    {
     "data": {
      "text/plain": [
       "(0.053170081, True)"
      ]
     },
     "execution_count": 8,
     "metadata": {},
     "output_type": "execute_result"
    }
   ],
   "source": [
    "verify(\"images/camera_0.jpg\", \"younes\", database, FRmodel)"
   ]
  },
  {
   "cell_type": "markdown",
   "metadata": {
    "collapsed": true
   },
   "source": [
    "**Expected Output**:\n",
    "\n",
    "<table>\n",
    "    <tr>\n",
    "        <td>\n",
    "            **It's younes, welcome home!**\n",
    "        </td>\n",
    "        <td>\n",
    "           (0.65939283, True)\n",
    "        </td>\n",
    "    </tr>\n",
    "\n",
    "</table>"
   ]
  },
  {
   "cell_type": "markdown",
   "metadata": {
    "collapsed": true
   },
   "source": [
    "Benoit, who broke the aquarium last weekend, has been banned from the house and removed from the database. He stole Kian's ID card and came back to the house to try to present himself as Kian. The front-door camera took a picture of Benoit (\"images/camera_2.jpg). Let's run the verification algorithm to check if benoit can enter.\n",
    "<img src=\"images/camera_2.jpg\" style=\"width:100px;height:100px;\">"
   ]
  },
  {
   "cell_type": "code",
   "execution_count": 30,
   "metadata": {},
   "outputs": [
    {
     "name": "stdout",
     "output_type": "stream",
     "text": [
      "It's kian, welcome home!\n"
     ]
    },
    {
     "data": {
      "text/plain": [
       "(0.12046711, True)"
      ]
     },
     "execution_count": 30,
     "metadata": {},
     "output_type": "execute_result"
    }
   ],
   "source": [
    "verify(\"images/camera_2.jpg\", \"kian\", database, FRmodel)"
   ]
  },
  {
   "cell_type": "markdown",
   "metadata": {},
   "source": [
    "**Expected Output**:\n",
    "\n",
    "<table>\n",
    "    <tr>\n",
    "        <td>\n",
    "            **It's not kian, please go away**\n",
    "        </td>\n",
    "        <td>\n",
    "           (0.86224014, False)\n",
    "        </td>\n",
    "    </tr>\n",
    "\n",
    "</table>"
   ]
  },
  {
   "cell_type": "markdown",
   "metadata": {},
   "source": [
    "### 3.2 - Face Recognition\n",
    "\n",
    "Your face verification system is mostly working well. But since Kian got his ID card stolen, when he came back to the house that evening he couldn't get in! \n",
    "\n",
    "To reduce such shenanigans, you'd like to change your face verification system to a face recognition system. This way, no one has to carry an ID card anymore. An authorized person can just walk up to the house, and the front door will unlock for them! \n",
    "\n",
    "You'll implement a face recognition system that takes as input an image, and figures out if it is one of the authorized persons (and if so, who). Unlike the previous face verification system, we will no longer get a person's name as another input. \n",
    "\n",
    "**Exercise**: Implement `who_is_it()`. You will have to go through the following steps:\n",
    "1. Compute the target encoding of the image from image_path\n",
    "2. Find the encoding from the database that has smallest distance with the target encoding. \n",
    "    - Initialize the `min_dist` variable to a large enough number (100). It will help you keep track of what is the closest encoding to the input's encoding.\n",
    "    - Loop over the database dictionary's names and encodings. To loop use `for (name, db_enc) in database.items()`.\n",
    "        - Compute L2 distance between the target \"encoding\" and the current \"encoding\" from the database.\n",
    "        - If this distance is less than the min_dist, then set min_dist to dist, and identity to name."
   ]
  },
  {
   "cell_type": "code",
   "execution_count": 9,
   "metadata": {
    "collapsed": true
   },
   "outputs": [
    {
     "name": "stdout",
     "output_type": "stream",
     "text": [
      "danielle\n",
      "[[ -3.31963599e-02  -1.45552769e-01   3.37759033e-02   1.39718488e-01\n",
      "    4.53987494e-02  -9.56988707e-02   8.03948566e-02  -5.04363887e-02\n",
      "   -6.99618906e-02   6.77124709e-02  -8.54298323e-02   3.37655172e-02\n",
      "   -3.04215979e-02  -4.39830497e-02   1.45487040e-01   1.20337550e-02\n",
      "   -5.43518476e-02  -8.55783448e-02   8.14028550e-03  -2.03870758e-02\n",
      "    1.05993330e-01  -1.04344562e-02   9.31548327e-02   2.69939155e-05\n",
      "   -6.00277893e-02  -2.12118879e-01  -4.22395617e-02   8.55683058e-04\n",
      "   -2.33250353e-02   1.12547003e-01   7.68950209e-02   4.07235883e-03\n",
      "   -2.90554818e-02  -9.36904475e-02   2.76305415e-02  -5.89807183e-02\n",
      "   -9.97437015e-02  -9.52109918e-02  -1.03420861e-01  -1.36136040e-01\n",
      "   -6.28903508e-02   7.46604055e-02  -8.16996098e-02  -6.48466274e-02\n",
      "   -6.37514293e-02   5.23489974e-02   4.14752997e-02   1.95044518e-01\n",
      "   -1.64020956e-01   2.38046840e-01   3.63631435e-02   7.84563795e-02\n",
      "   -3.35265435e-02  -4.15534936e-02  -3.87469567e-02  -5.10102659e-02\n",
      "    9.07908008e-02   1.40667081e-01  -6.50059730e-02  -1.71122868e-02\n",
      "   -6.57520667e-02   5.31825870e-02   1.16236024e-01  -1.25499114e-01\n",
      "   -8.30074176e-02   8.56315047e-02   6.61596730e-02   5.05414279e-03\n",
      "   -8.60729367e-02   6.68649450e-02   8.82912725e-02  -1.24997899e-01\n",
      "   -1.06928907e-02   9.94255692e-02  -1.01255074e-01  -7.86769018e-02\n",
      "    7.85690844e-02  -1.59187436e-01  -2.26204079e-02   8.61036498e-03\n",
      "   -1.33707240e-01  -1.74980924e-01  -1.37912240e-02  -4.34069615e-03\n",
      "    1.49528265e-01   8.37030448e-03  -9.11656022e-02   4.13814224e-02\n",
      "    1.68042351e-02   9.49370414e-02  -1.80225536e-01   5.20983972e-02\n",
      "    1.13300957e-01  -2.19461899e-02  -2.57924781e-03  -1.18926633e-02\n",
      "   -6.94287866e-02   6.66034073e-02  -1.73857719e-01  -5.53142764e-02\n",
      "   -1.19899601e-01   1.32596821e-01  -4.95895445e-02   3.76892798e-02\n",
      "   -1.86195165e-01  -1.03555337e-01   1.16619818e-01   9.12332311e-02\n",
      "   -4.26913910e-02   8.36448595e-02   3.22815054e-03   4.74494696e-02\n",
      "    9.26195607e-02   4.19586897e-02   6.42308146e-02  -6.78055659e-02\n",
      "    4.35608476e-02   5.62476963e-02  -2.94142496e-02   1.22830439e-02\n",
      "    7.01058581e-02  -1.10402964e-01   1.45079076e-01  -1.28492460e-01\n",
      "   -4.87613641e-02  -1.04889944e-02   6.31375909e-02  -6.12404309e-02]]\n",
      "younes\n",
      "[[-0.04824694 -0.15356541  0.02644345  0.13521592  0.05169692 -0.10185837\n",
      "   0.1082058  -0.03585948 -0.07425287  0.06729969 -0.10065845  0.02474763\n",
      "  -0.01761504 -0.0417815   0.14472169  0.00313873 -0.04831121 -0.08844948\n",
      "   0.0303016  -0.03341623  0.09109204 -0.01387887  0.09880801 -0.00380087\n",
      "  -0.0488654  -0.21011904 -0.03078913  0.01989629 -0.04522429  0.12510401\n",
      "   0.0735667   0.00400909 -0.03671414 -0.09835785  0.02746778 -0.06745213\n",
      "  -0.09393135 -0.11122027 -0.11264585 -0.12653151 -0.07343721  0.08332478\n",
      "  -0.06530396 -0.06270702 -0.05003707  0.04187544  0.03695866  0.19301677\n",
      "  -0.16687824  0.23559047  0.03934858  0.08235494 -0.03807371 -0.03594873\n",
      "  -0.04048052 -0.04211333  0.0811798   0.14321035 -0.07867198 -0.01757079\n",
      "  -0.07495046  0.06114993  0.11016958 -0.10654814 -0.09656219  0.08745775\n",
      "   0.061673    0.00398851 -0.08452273  0.05640489  0.08936995 -0.14083879\n",
      "  -0.00880444  0.09690265 -0.09665894 -0.0867309   0.09551328 -0.16269387\n",
      "  -0.01905203  0.01534238 -0.1381488  -0.18893917 -0.02663538  0.00130745\n",
      "   0.12481467  0.00428267 -0.09098158  0.04518623  0.01566696  0.08173346\n",
      "  -0.16038971  0.05422716  0.09901045 -0.02050391 -0.00296949 -0.00733946\n",
      "  -0.07139066  0.06057267 -0.15459831 -0.0436779  -0.12133879  0.12270284\n",
      "  -0.04223021  0.04286179 -0.18708132 -0.11020356  0.11921707  0.08674549\n",
      "  -0.04037214  0.08291162  0.01790021  0.04581204  0.09583151  0.02934801\n",
      "   0.07675324 -0.08649677  0.03390782  0.07293034 -0.03004479  0.01440146\n",
      "   0.0775528  -0.1211023   0.14312965 -0.11648884 -0.05002402 -0.01566506\n",
      "   0.05067852 -0.04807974]]\n",
      "tian\n",
      "[[-0.03540109 -0.13602677  0.04887355  0.11598039  0.05884402 -0.12111402\n",
      "   0.059374   -0.05494913 -0.07929783  0.07182207 -0.09881308  0.02371899\n",
      "  -0.0335192  -0.05500856  0.15617584  0.00045948 -0.04256908 -0.07975709\n",
      "  -0.01109039 -0.01847866  0.12219907 -0.02778264  0.0787231   0.01466233\n",
      "  -0.04778723 -0.1860283  -0.03716141  0.00242865 -0.02349078  0.12505189\n",
      "   0.06827145 -0.00653177 -0.00107978 -0.09145263  0.05404454 -0.06292368\n",
      "  -0.11426145 -0.09616295 -0.09931087 -0.09180801 -0.08650014  0.05157581\n",
      "  -0.07602321 -0.06414705 -0.07375918  0.07070265  0.05766346  0.19038722\n",
      "  -0.14783053  0.23932034  0.01984042  0.06965878 -0.04298996 -0.05218573\n",
      "  -0.04475605 -0.05341054  0.0981986   0.1555583  -0.07329064 -0.02305691\n",
      "  -0.06839544  0.04976607  0.12270727 -0.13118419 -0.08243086  0.07498174\n",
      "   0.06732912  0.02860003 -0.09668969  0.0788673   0.09591939 -0.1324455\n",
      "   0.00521476  0.09097675 -0.12774357 -0.07123891  0.07740091 -0.15901792\n",
      "  -0.01645419  0.00244785 -0.13615033 -0.15964195 -0.02194206 -0.00727671\n",
      "   0.14339353  0.02337507 -0.07037073  0.02564973  0.00348801  0.08204708\n",
      "  -0.17981079  0.05106974  0.10900519 -0.01912267  0.00347817 -0.02266613\n",
      "  -0.06447687  0.08230109 -0.15741748 -0.06118328 -0.12213828  0.13459383\n",
      "  -0.0413832   0.05298907 -0.14566466 -0.12362064  0.11549252  0.08725179\n",
      "  -0.05239779  0.08624735 -0.00675627  0.04597779  0.12759161  0.03652995\n",
      "   0.05001217 -0.06928568  0.05876596  0.05963745 -0.03501095 -0.02078445\n",
      "   0.07039585 -0.11123587  0.14533955 -0.13245949 -0.06588249  0.01855802\n",
      "   0.08041131 -0.07768117]]\n",
      "andrew\n",
      "[[-0.04922047 -0.14792193  0.0256089   0.14208576  0.05544508 -0.10754838\n",
      "   0.08728793 -0.04681294 -0.07043734  0.07797707 -0.09459932  0.03008531\n",
      "  -0.02209782 -0.04450226  0.15491827 -0.00600222 -0.05387368 -0.08101094\n",
      "   0.01283218 -0.02521973  0.09656437 -0.00853456  0.09847786 -0.00618412\n",
      "  -0.05471105 -0.20380566 -0.0354767   0.01170767 -0.04539702  0.11180306\n",
      "   0.07972766  0.0045877  -0.02801777 -0.0753158   0.03359049 -0.05513334\n",
      "  -0.10062493 -0.11364175 -0.11176068 -0.12700781 -0.06985265  0.07238267\n",
      "  -0.06950805 -0.05527942 -0.06247451  0.06808835  0.03126921  0.18647289\n",
      "  -0.15905833  0.23395225  0.04347949  0.08062942 -0.03955348 -0.0492845\n",
      "  -0.04641944 -0.04084565  0.08876241  0.143152   -0.0691686  -0.02022966\n",
      "  -0.07347996  0.04992026  0.11854844 -0.1107581  -0.08569656  0.07695989\n",
      "   0.0744126   0.0096951  -0.07382093  0.06010098  0.08605504 -0.12932366\n",
      "  -0.00309197  0.09580339 -0.10119072 -0.07930908  0.09511638 -0.16521621\n",
      "  -0.02007108  0.00462156 -0.1331199  -0.19078329 -0.03296041 -0.00290195\n",
      "   0.13550946 -0.00300217 -0.09716132  0.04122616  0.01102235  0.08337753\n",
      "  -0.16347671  0.04885268  0.10620683 -0.03121378 -0.00719689 -0.00235307\n",
      "  -0.07552001  0.05600126 -0.17249085 -0.05310854 -0.12388326  0.12953989\n",
      "  -0.05004432  0.03215199 -0.19094609 -0.11189586  0.10764092  0.07461367\n",
      "  -0.03938521  0.08523098  0.01337203  0.05171767  0.09545732  0.03753569\n",
      "   0.0626263  -0.08937864  0.04055409  0.07425863 -0.0242529   0.00915369\n",
      "   0.06551907 -0.11768543  0.14329118 -0.1214693  -0.05919301 -0.00550303\n",
      "   0.06922447 -0.05864136]]\n",
      "kian\n",
      "[[-0.03441127 -0.14292988  0.02372443  0.13758652  0.04398245 -0.09394776\n",
      "   0.08524702 -0.04672531 -0.07862452  0.06357595 -0.0853307   0.02766293\n",
      "  -0.02834343 -0.05371225  0.14992422  0.0064329  -0.05468363 -0.08370535\n",
      "   0.01504251 -0.02234079  0.09475358 -0.0150407   0.09873872 -0.0117498\n",
      "  -0.05477631 -0.2076412  -0.04490211  0.00302676 -0.03021792  0.11434616\n",
      "   0.08403697 -0.00501436 -0.03191108 -0.09148105  0.02470656 -0.06804737\n",
      "  -0.08958189 -0.11145309 -0.11403162 -0.13595524 -0.07206097  0.07799289\n",
      "  -0.07074284 -0.05820457 -0.05351191  0.05466697  0.02319234  0.18907301\n",
      "  -0.15722726  0.23847067  0.03709885  0.08862153 -0.03606227 -0.05182917\n",
      "  -0.04622899 -0.04595539  0.08636317  0.14115287 -0.06871921 -0.00618599\n",
      "  -0.06674246  0.05898122  0.13081001 -0.11691774 -0.08391958  0.08360387\n",
      "   0.06739446  0.00367939 -0.08227882  0.05356899  0.07212862 -0.12916964\n",
      "  -0.00834246  0.10758146 -0.09445154 -0.07682049  0.08923686 -0.15287818\n",
      "  -0.0228472   0.00802695 -0.13065991 -0.18711314 -0.02736408 -0.00115185\n",
      "   0.13353503  0.00438851 -0.09387136  0.04148455  0.01854103  0.08818335\n",
      "  -0.17221147  0.05015721  0.1072888  -0.02418122 -0.0093194  -0.00488378\n",
      "  -0.07683534  0.06124364 -0.16880699 -0.04814269 -0.12531583  0.11754596\n",
      "  -0.05179653  0.03376397 -0.18138403 -0.11609589  0.11756245  0.08873012\n",
      "  -0.04341137  0.09847734  0.00540975  0.03753212  0.09138181  0.03894682\n",
      "   0.06971091 -0.09380191  0.03341138  0.06528831 -0.02042645  0.01069452\n",
      "   0.07957091 -0.11961453  0.14914194 -0.12217889 -0.0627193  -0.00523066\n",
      "   0.06827718 -0.06247607]]\n",
      "dan\n",
      "[[-0.04202757 -0.14950164  0.024842    0.14089172  0.05994138 -0.09929637\n",
      "   0.0821081  -0.04573454 -0.06740048  0.06947222 -0.07899456  0.03213662\n",
      "  -0.02783136 -0.04688912  0.15333456  0.00919749 -0.05368965 -0.07998731\n",
      "   0.02134652 -0.02250925  0.09325254 -0.00755032  0.0879043  -0.00685248\n",
      "  -0.05455418 -0.20186691 -0.04430944  0.00963568 -0.03354944  0.12029295\n",
      "   0.07347409  0.00641044 -0.02447544 -0.09270272  0.0226597  -0.0557727\n",
      "  -0.09371012 -0.10873875 -0.10364377 -0.13455288 -0.06987838  0.08102663\n",
      "  -0.079441   -0.06618286 -0.05885603  0.05370387  0.02334381  0.1917035\n",
      "  -0.16339731  0.24037531  0.03220389  0.08567189 -0.03099791 -0.03387196\n",
      "  -0.04004373 -0.04326988  0.10059512  0.14247422 -0.07155148 -0.01412269\n",
      "  -0.06936979  0.05879689  0.10951492 -0.12199766 -0.08317231  0.09152942\n",
      "   0.06198145  0.00110427 -0.07967208  0.05543771  0.08710872 -0.13954592\n",
      "  -0.00617253  0.09922736 -0.09304983 -0.09113843  0.08765493 -0.15152834\n",
      "  -0.02113012  0.00918643 -0.13150342 -0.18700786 -0.01934808  0.00055122\n",
      "   0.14382632  0.00297377 -0.10214462  0.03728633  0.0102854   0.0724834\n",
      "  -0.16631566  0.04431679  0.10764916 -0.02491562 -0.00647106 -0.00990158\n",
      "  -0.08168771  0.06153937 -0.17828317 -0.03780956 -0.13413137  0.1325274\n",
      "  -0.06095134  0.04072743 -0.18327683 -0.10886584  0.11456565  0.08730427\n",
      "  -0.03719144  0.09826726  0.00406272  0.04650195  0.08994577  0.04048268\n",
      "   0.07641137 -0.08479425  0.05002967  0.05467856 -0.01938553  0.01621728\n",
      "   0.07720853 -0.10380998  0.14029533 -0.11619376 -0.05904085 -0.00418088\n",
      "   0.06097494 -0.05268503]]\n",
      "sebastiano\n",
      "[[-0.04088969 -0.14943328  0.02751748  0.1342092   0.05970453 -0.1081804\n",
      "   0.09146312 -0.04375077 -0.06780604  0.06771507 -0.0938653   0.02974487\n",
      "  -0.01206087 -0.04974783  0.1527762   0.00911786 -0.04527098 -0.08407057\n",
      "   0.02553277 -0.0263064   0.08872982 -0.01353834  0.09834041 -0.00520641\n",
      "  -0.06349505 -0.20466068 -0.03810029  0.01926823 -0.04839984  0.12146173\n",
      "   0.0857821   0.00304023 -0.02737773 -0.08879438  0.03095636 -0.06300117\n",
      "  -0.09187867 -0.11626485 -0.10409284 -0.12620552 -0.07153983  0.07751693\n",
      "  -0.07088544 -0.06324534 -0.05167732  0.05226879  0.0250857   0.20077614\n",
      "  -0.15684733  0.23294337  0.03325446  0.08700766 -0.03404091 -0.04137935\n",
      "  -0.05149062 -0.04015687  0.0870733   0.14522269 -0.08168611 -0.01368285\n",
      "  -0.08192416  0.05806547  0.11846757 -0.11496004 -0.07923612  0.08380902\n",
      "   0.06037961  0.00126738 -0.07966043  0.04903519  0.08981815 -0.14765583\n",
      "  -0.0017676   0.09369328 -0.10098808 -0.08131776  0.09427725 -0.16228965\n",
      "  -0.02589231  0.01367916 -0.13958277 -0.1867547  -0.02703559 -0.00605354\n",
      "   0.13222985 -0.00221506 -0.09594767  0.03645766  0.0115159   0.076487\n",
      "  -0.15837389  0.05742143  0.10466614 -0.02478694 -0.00717228 -0.01009559\n",
      "  -0.08036487  0.05931992 -0.16349469 -0.04398876 -0.1202271   0.1216253\n",
      "  -0.05584855  0.04226762 -0.18555798 -0.10440803  0.11246621  0.07967622\n",
      "  -0.04781117  0.08711561  0.01824369  0.05009083  0.09253257  0.03089538\n",
      "   0.07119065 -0.09391601  0.04488218  0.0623618  -0.02772244  0.0056731\n",
      "   0.07515179 -0.11862472  0.14116798 -0.11502589 -0.06362465 -0.0022235\n",
      "   0.0579365  -0.05742248]]\n",
      "bertrand\n",
      "[[-0.03714916 -0.15541489  0.03139673  0.12875541  0.06185038 -0.11519265\n",
      "   0.10335957 -0.04050269 -0.06053182  0.07594267 -0.10409874  0.02679121\n",
      "  -0.01103064 -0.04215413  0.1528964  -0.00222941 -0.04621066 -0.0863382\n",
      "   0.01516936 -0.03681421  0.09334934 -0.00239438  0.09805263  0.000733\n",
      "  -0.04639095 -0.20583639 -0.03555635  0.01254133 -0.0491728   0.11600505\n",
      "   0.07900674  0.00344105 -0.02440525 -0.08521459  0.05016369 -0.06585035\n",
      "  -0.09669255 -0.11457926 -0.09959166 -0.11645279 -0.06814414  0.06593364\n",
      "  -0.06919537 -0.06045555 -0.05480584  0.05202521  0.03242119  0.19387461\n",
      "  -0.15958162  0.23629786  0.04099765  0.07873216 -0.04580716 -0.05544508\n",
      "  -0.05453343 -0.04079586  0.09029091  0.15435776 -0.08662029 -0.01932493\n",
      "  -0.08698066  0.05464084  0.10997059 -0.10581391 -0.08989442  0.08734545\n",
      "   0.06061767  0.00322107 -0.08233736  0.04921294  0.10477775 -0.14031458\n",
      "  -0.00849322  0.09053347 -0.10663784 -0.07244196  0.0864379  -0.15604836\n",
      "  -0.01419435  0.0102934  -0.1463331  -0.17730795 -0.03030864 -0.00336994\n",
      "   0.13452981  0.00249728 -0.08724658  0.03502741  0.00821232  0.08387556\n",
      "  -0.16460581  0.05975505  0.10229959 -0.03012647  0.00060724 -0.00368105\n",
      "  -0.07807684  0.06451638 -0.15941024 -0.05207318 -0.1182438   0.12582158\n",
      "  -0.04802786  0.04049217 -0.17948668 -0.10514058  0.11103398  0.0809478\n",
      "  -0.04411265  0.07091066  0.02288204  0.05688945  0.10308208  0.04022342\n",
      "   0.05817968 -0.08492476  0.04882176  0.0716617  -0.03417954  0.00189205\n",
      "   0.06109764 -0.11604051  0.14978965 -0.12868871 -0.05533828 -0.01451791\n",
      "   0.04830315 -0.06305313]]\n",
      "kevin\n",
      "[[-0.03302497 -0.14771743  0.01897336  0.14806451  0.04991241 -0.10484561\n",
      "   0.0746     -0.04059627 -0.07386886  0.06989171 -0.08988581  0.02569992\n",
      "  -0.0351949  -0.03893221  0.14550018  0.00714513 -0.05651891 -0.07888992\n",
      "   0.00634505 -0.01606206  0.09517784 -0.00255695  0.09411465  0.00083344\n",
      "  -0.05792602 -0.21095428 -0.04513212 -0.00292296 -0.02146677  0.10720896\n",
      "   0.06640567  0.00251987 -0.01697863 -0.08259825  0.03146005 -0.0559913\n",
      "  -0.10247793 -0.09668944 -0.10664168 -0.14010048 -0.06639736  0.07961135\n",
      "  -0.08445255 -0.05910182 -0.06568476  0.05683228  0.030239    0.1873778\n",
      "  -0.16601202  0.2361317   0.03559215  0.0775319  -0.04363267 -0.0410482\n",
      "  -0.04320028 -0.04806266  0.09374038  0.13444723 -0.0628609  -0.01614072\n",
      "  -0.05876997  0.05328986  0.11855854 -0.12914041 -0.08298273  0.08803861\n",
      "   0.07008099  0.00827696 -0.0862319   0.06732005  0.08736131 -0.12924659\n",
      "  -0.01180125  0.09217968 -0.09833018 -0.08464228  0.08419536 -0.15375373\n",
      "  -0.01835678  0.00991031 -0.1266482  -0.18144338 -0.02442561 -0.0058725\n",
      "   0.15288322  0.00742038 -0.10095453  0.035731    0.00847222  0.08584487\n",
      "  -0.17547099  0.04370702  0.11369574 -0.01905864 -0.00466894 -0.01854526\n",
      "  -0.07337347  0.07150541 -0.17691553 -0.05657706 -0.1176522   0.13340895\n",
      "  -0.05895651  0.03465836 -0.1835236  -0.11752798  0.10797532  0.08495533\n",
      "  -0.03596184  0.08909141 -0.00080974  0.04349219  0.09141564  0.03740689\n",
      "   0.06663096 -0.0760086   0.04531647  0.06360495 -0.0228843   0.01331455\n",
      "   0.06242541 -0.1066613   0.14946964 -0.12939236 -0.06404702 -0.007358\n",
      "   0.07605713 -0.05410951]]\n",
      "felix\n",
      "[[-0.04495978 -0.14391933  0.02350114  0.14238523  0.05281779 -0.10687477\n",
      "   0.08744065 -0.04496534 -0.07494046  0.06641641 -0.09170979  0.02431389\n",
      "  -0.03661916 -0.0464906   0.14543205  0.01379394 -0.05618513 -0.08558009\n",
      "   0.01877882 -0.02647371  0.09978575 -0.01291402  0.09328023 -0.0111986\n",
      "  -0.0512557  -0.20548323 -0.04965094 -0.0015935  -0.03491197  0.11901902\n",
      "   0.07010095 -0.00656999 -0.02984614 -0.08673595  0.02384699 -0.06335375\n",
      "  -0.09243538 -0.10278408 -0.11347729 -0.1342704  -0.06415357  0.08296144\n",
      "  -0.0743971  -0.06296525 -0.05641111  0.04653548  0.02386411  0.19280577\n",
      "  -0.15687373  0.23455618  0.02717361  0.08222818 -0.03300551 -0.04183473\n",
      "  -0.05341354 -0.04516348  0.08831809  0.14406221 -0.06815314 -0.00813511\n",
      "  -0.0737056   0.05978473  0.11783891 -0.1206837  -0.07985159  0.08975656\n",
      "   0.07019011 -0.00363035 -0.07868449  0.05020132  0.07198419 -0.13445385\n",
      "  -0.01142207  0.09857704 -0.09205733 -0.08347399  0.08511228 -0.16523707\n",
      "  -0.02782064  0.00218034 -0.13736317 -0.18508114 -0.02781809 -0.00523865\n",
      "   0.13198945  0.00071291 -0.08910849  0.048546    0.01610848  0.08648018\n",
      "  -0.17143515  0.0513323   0.10528238 -0.02446439 -0.01047116 -0.00780823\n",
      "  -0.08350118  0.06416303 -0.1703634  -0.04693529 -0.1267861   0.12132569\n",
      "  -0.05158371  0.03431266 -0.18643531 -0.11583866  0.11731918  0.08387986\n",
      "  -0.03962675  0.09213526  0.00896822  0.03883915  0.09850685  0.03446551\n",
      "   0.07484835 -0.07738098  0.04707573  0.05694387 -0.01903867  0.0140324\n",
      "   0.06727026 -0.1140455   0.14969641 -0.12479322 -0.0662853  -0.01042015\n",
      "   0.06659976 -0.05116529]]\n",
      "benoit\n",
      "[[-0.04202508 -0.14247672  0.02687558  0.13246255  0.06047915 -0.11227383\n",
      "   0.09334844 -0.04389387 -0.07257891  0.06543888 -0.09521902  0.02255398\n",
      "  -0.00771735 -0.0452728   0.154842   -0.00250118 -0.04572911 -0.08881065\n",
      "   0.02033703 -0.02940773  0.08666718 -0.01120635  0.1017484  -0.00207336\n",
      "  -0.06272589 -0.20915897 -0.0403753   0.01943382 -0.0469408   0.11976612\n",
      "   0.08100072  0.00322098 -0.02467502 -0.08436209  0.03214551 -0.06464406\n",
      "  -0.09673615 -0.11669941 -0.10871831 -0.12327105 -0.06809682  0.08112796\n",
      "  -0.07518796 -0.06655847 -0.05068492  0.04242561  0.02633629  0.1960275\n",
      "  -0.15810674  0.23404424  0.03126059  0.08720827 -0.04092663 -0.04353039\n",
      "  -0.048255   -0.04766236  0.08926959  0.14530222 -0.08404484 -0.0151146\n",
      "  -0.06980421  0.05376574  0.1236892  -0.11772987 -0.08587706  0.07787155\n",
      "   0.06083565  0.00774534 -0.07992502  0.0525299   0.09373177 -0.14228767\n",
      "  -0.00083666  0.09236743 -0.10541759 -0.08505581  0.09097281 -0.15451632\n",
      "  -0.0243315   0.0142088  -0.13625617 -0.18035075 -0.02671664 -0.0034487\n",
      "   0.14175041  0.00284684 -0.09244151  0.03588773  0.01128281  0.07521768\n",
      "  -0.16243547  0.05189404  0.10169075 -0.03069706 -0.00363449 -0.00769041\n",
      "  -0.08279982  0.0643819  -0.16019469 -0.04118822 -0.12402471  0.12865669\n",
      "  -0.05429995  0.03697912 -0.18957491 -0.10541514  0.1090299   0.0802471\n",
      "  -0.04913704  0.09234061  0.01871475  0.04750894  0.0923084   0.02976025\n",
      "   0.06805384 -0.09423407  0.04000099  0.058374   -0.03115373  0.00355039\n",
      "   0.0713223  -0.11874881  0.14082417 -0.11255576 -0.06245364 -0.00571294\n",
      "   0.05931197 -0.05639759]]\n",
      "arnaud\n",
      "[[-0.04072062 -0.15339495  0.03185033  0.13706534  0.06289563 -0.11011606\n",
      "   0.10129224 -0.04405447 -0.07214681  0.07535774 -0.09660172  0.02744781\n",
      "  -0.00564765 -0.04197513  0.15459363  0.00127642 -0.04642731 -0.08288973\n",
      "   0.02144292 -0.0359614   0.08892639 -0.00608435  0.1026324  -0.00681492\n",
      "  -0.05399673 -0.20464204 -0.03387731  0.01449966 -0.04584299  0.12035948\n",
      "   0.07920293  0.00940995 -0.02922786 -0.08008756  0.03819773 -0.06764821\n",
      "  -0.09523589 -0.12058003 -0.1085151  -0.1189476  -0.07587007  0.0713037\n",
      "  -0.0701924  -0.06346375 -0.05543143  0.05255105  0.0285464   0.19192475\n",
      "  -0.15998997  0.23172496  0.04246181  0.07882174 -0.04111774 -0.04765595\n",
      "  -0.05532758 -0.03356546  0.08962049  0.14825006 -0.08378794 -0.01907601\n",
      "  -0.07937352  0.05670239  0.11771247 -0.11469196 -0.08559839  0.07910204\n",
      "   0.06553293  0.0124206  -0.0852007   0.04853139  0.09335205 -0.13268691\n",
      "  -0.00655073  0.10006824 -0.09890938 -0.07537179  0.08546439 -0.15525237\n",
      "  -0.02277706  0.00502254 -0.13829322 -0.18548475 -0.02898815 -0.00111743\n",
      "   0.12951045  0.00307221 -0.08931963  0.0466145   0.01139123  0.07447389\n",
      "  -0.163277    0.05707554  0.10245318 -0.02711535 -0.00559567  0.00193788\n",
      "  -0.07791825  0.06015461 -0.15780045 -0.05461106 -0.12354438  0.11342957\n",
      "  -0.04911484  0.039176   -0.18325676 -0.11340187  0.1136197   0.08131195\n",
      "  -0.04263811  0.08476607  0.02071332  0.04785874  0.10066555  0.03554409\n",
      "   0.05993777 -0.09721176  0.04266301  0.07301885 -0.02357489  0.00459802\n",
      "   0.07590733 -0.11580224  0.14808571 -0.12433917 -0.0587567  -0.00630659\n",
      "   0.0590822  -0.05924089]]\n"
     ]
    }
   ],
   "source": [
    "for (name,db_enc) in database.items():\n",
    "    print(name)\n",
    "    print(db_enc)"
   ]
  },
  {
   "cell_type": "code",
   "execution_count": 10,
   "metadata": {
    "collapsed": true
   },
   "outputs": [],
   "source": [
    "# GRADED FUNCTION: who_is_it\n",
    "\n",
    "def who_is_it(image_path, database, model):\n",
    "    \"\"\"\n",
    "    Implements face recognition for the happy house by finding who is the person on the image_path image.\n",
    "    \n",
    "    Arguments:\n",
    "    image_path -- path to an image\n",
    "    database -- database containing image encodings along with the name of the person on the image\n",
    "    model -- your Inception model instance in Keras\n",
    "    \n",
    "    Returns:\n",
    "    min_dist -- the minimum distance between image_path encoding and the encodings from the database\n",
    "    identity -- string, the name prediction for the person on image_path\n",
    "    \"\"\"\n",
    "    \n",
    "    ### START CODE HERE ### \n",
    "    \n",
    "    ## Step 1: Compute the target \"encoding\" for the image. Use img_to_encoding() see example above. ## (≈ 1 line)\n",
    "    encoding = img_to_encoding(image_path,model)\n",
    "    \n",
    "    ## Step 2: Find the closest encoding ##\n",
    "    \n",
    "    # Initialize \"min_dist\" to a large value, say 100 (≈1 line)\n",
    "    min_dist = 100\n",
    "    \n",
    "    # Loop over the database dictionary's names and encodings.\n",
    "    for (name, db_enc) in database.items():\n",
    "        \n",
    "        # Compute L2 distance between the target \"encoding\" and the current \"emb\" from the database. (≈ 1 line)\n",
    "        dist = np.linalg.norm(encoding-db_enc)\n",
    "\n",
    "        # If this distance is less than the min_dist, then set min_dist to dist, and identity to name. (≈ 3 lines)\n",
    "        if dist<min_dist:\n",
    "            min_dist = dist\n",
    "            identity = name\n",
    "\n",
    "    ### END CODE HERE ###\n",
    "    \n",
    "    if min_dist > 0.7:\n",
    "        print(\"Not in the database.\")\n",
    "    else:\n",
    "        print (\"it's \" + str(identity) + \", the distance is \" + str(min_dist))\n",
    "        \n",
    "    return min_dist, identity"
   ]
  },
  {
   "cell_type": "markdown",
   "metadata": {},
   "source": [
    "Younes is at the front-door and the camera takes a picture of him (\"images/camera_0.jpg\"). Let's see if your who_it_is() algorithm identifies Younes. "
   ]
  },
  {
   "cell_type": "code",
   "execution_count": 11,
   "metadata": {
    "scrolled": false
   },
   "outputs": [
    {
     "name": "stdout",
     "output_type": "stream",
     "text": [
      "it's younes, the distance is 0.0531701\n"
     ]
    },
    {
     "data": {
      "text/plain": [
       "(0.053170081, 'younes')"
      ]
     },
     "execution_count": 11,
     "metadata": {},
     "output_type": "execute_result"
    }
   ],
   "source": [
    "who_is_it(\"images/camera_0.jpg\", database, FRmodel)"
   ]
  },
  {
   "cell_type": "markdown",
   "metadata": {},
   "source": [
    "**Expected Output**:\n",
    "\n",
    "<table>\n",
    "    <tr>\n",
    "        <td>\n",
    "            **it's younes, the distance is 0.659393**\n",
    "        </td>\n",
    "        <td>\n",
    "           (0.65939283, 'younes')\n",
    "        </td>\n",
    "    </tr>\n",
    "\n",
    "</table>"
   ]
  },
  {
   "cell_type": "markdown",
   "metadata": {},
   "source": [
    "You can change \"`camera_0.jpg`\" (picture of younes) to \"`camera_1.jpg`\" (picture of bertrand) and see the result."
   ]
  },
  {
   "cell_type": "markdown",
   "metadata": {},
   "source": [
    "Your Happy House is running well. It only lets in authorized persons, and people don't need to carry an ID card around anymore! \n",
    "\n",
    "You've now seen how a state-of-the-art face recognition system works.\n",
    "\n",
    "Although we won't implement it here, here're some ways to further improve the algorithm:\n",
    "- Put more images of each person (under different lighting conditions, taken on different days, etc.) into the database. Then given a new image, compare the new face to multiple pictures of the person. This would increae accuracy.\n",
    "- Crop the images to just contain the face, and less of the \"border\" region around the face. This preprocessing removes some of the irrelevant pixels around the face, and also makes the algorithm more robust.\n"
   ]
  },
  {
   "cell_type": "markdown",
   "metadata": {},
   "source": [
    "<font color='blue'>\n",
    "**What you should remember**:\n",
    "- Face verification solves an easier 1:1 matching problem; face recognition addresses a harder 1:K matching problem. \n",
    "- The triplet loss is an effective loss function for training a neural network to learn an encoding of a face image.\n",
    "- The same encoding can be used for verification and recognition. Measuring distances between two images' encodings allows you to determine whether they are pictures of the same person. "
   ]
  },
  {
   "cell_type": "markdown",
   "metadata": {},
   "source": [
    "Congrats on finishing this assignment! \n"
   ]
  },
  {
   "cell_type": "markdown",
   "metadata": {},
   "source": [
    "### References:\n",
    "\n",
    "- Florian Schroff, Dmitry Kalenichenko, James Philbin (2015). [FaceNet: A Unified Embedding for Face Recognition and Clustering](https://arxiv.org/pdf/1503.03832.pdf)\n",
    "- Yaniv Taigman, Ming Yang, Marc'Aurelio Ranzato, Lior Wolf (2014). [DeepFace: Closing the gap to human-level performance in face verification](https://research.fb.com/wp-content/uploads/2016/11/deepface-closing-the-gap-to-human-level-performance-in-face-verification.pdf) \n",
    "- The pretrained model we use is inspired by Victor Sy Wang's implementation and was loaded using his code: https://github.com/iwantooxxoox/Keras-OpenFace.\n",
    "- Our implementation also took a lot of inspiration from the official FaceNet github repository: https://github.com/davidsandberg/facenet \n"
   ]
  }
 ],
 "metadata": {
  "coursera": {
   "course_slug": "convolutional-neural-networks",
   "graded_item_id": "IaknP",
   "launcher_item_id": "5UMr4"
  },
  "kernelspec": {
   "display_name": "Python 3",
   "language": "python",
   "name": "python3"
  },
  "language_info": {
   "codemirror_mode": {
    "name": "ipython",
    "version": 3
   },
   "file_extension": ".py",
   "mimetype": "text/x-python",
   "name": "python",
   "nbconvert_exporter": "python",
   "pygments_lexer": "ipython3",
   "version": "3.6.0"
  }
 },
 "nbformat": 4,
 "nbformat_minor": 2
}
